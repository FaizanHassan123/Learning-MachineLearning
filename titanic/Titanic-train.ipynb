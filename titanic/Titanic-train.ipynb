{
 "cells": [
  {
   "cell_type": "code",
   "execution_count": 1,
   "id": "507e8683-90dc-48b1-8f36-7ece347ce643",
   "metadata": {},
   "outputs": [],
   "source": [
    "import pandas as pd\n",
    "import math\n",
    "import numpy as np\n",
    "import torch\n",
    "import matplotlib.pyplot as plt"
   ]
  },
  {
   "cell_type": "code",
   "execution_count": 2,
   "id": "5a49d48f-576d-436b-9072-8d48cb3576b2",
   "metadata": {},
   "outputs": [],
   "source": [
    "# Hyperparameters\n",
    "\n",
    "# learning_rate = 0.00001\n",
    "# epoches = 10000\n",
    "learning_rate = 0.0001\n",
    "epoches = 1000"
   ]
  },
  {
   "cell_type": "code",
   "execution_count": 3,
   "id": "ef7fa93f-a602-46a3-b5f5-fe211a100586",
   "metadata": {},
   "outputs": [],
   "source": [
    "train = pd.read_csv('./train.csv') # initialize train data\n",
    "train = train.drop(['PassengerId', 'Name', 'Ticket', 'Cabin'], axis=1) # drop unused columns\n",
    "train = train.dropna() # drop nan\n",
    "train['Pclass'] = pd.to_numeric(train['Pclass']) # cast to int\n",
    "\n",
    "#optimize Age\n",
    "maxAge = max(train['Age'])\n",
    "train['Age'] = round(train['Age']/maxAge, 2)\n",
    "\n",
    "# optimize Fare\n",
    "train['Fare'] = round(np.log10(train['Fare']+1), 2)\n",
    "\n",
    "# optimize Pclass\n",
    "train['Pclass_1'] = np.where(train['Pclass']==1, 1, 0)\n",
    "train['Pclass_2'] = np.where(train['Pclass']==2, 1, 0)\n",
    "\n",
    "# optimize gender\n",
    "train['Sex'] = np.where(train['Sex']=='male',1,0)\n",
    "train.rename(columns={'Sex' : 'Male'}, inplace=True)\n",
    "\n",
    "# optimize embarked\n",
    "train['Embark_S'] = np.where(train['Embarked']=='S',1,0)\n",
    "train['Embark_C'] = np.where(train['Embarked']=='C',1,0)\n",
    "\n",
    "# add ones\n",
    "train['Ones'] = 1"
   ]
  },
  {
   "cell_type": "code",
   "execution_count": 4,
   "id": "bba4a5c3-37a8-4a15-b271-4d07eec14c80",
   "metadata": {
    "scrolled": true
   },
   "outputs": [],
   "source": [
    "final_data = train[['SibSp', 'Parch', 'Age', 'Fare', 'Pclass_1', 'Pclass_2', 'Embark_S', 'Embark_C', 'Male', 'Ones']]\n",
    "w = np.array([0.01,0.01,0.01,0.01,0.01,0.01,0.01,0.01,0.01,0.01])"
   ]
  },
  {
   "cell_type": "code",
   "execution_count": 5,
   "id": "d187690e-4d33-4f34-9557-eb2f5ccd345c",
   "metadata": {
    "scrolled": true
   },
   "outputs": [
    {
     "name": "stdout",
     "output_type": "stream",
     "text": [
      "Loss: 102.91461181640625\n"
     ]
    },
    {
     "data": {
      "image/png": "[encoded data removed]",
      "text/plain": [
       "<Figure size 640x480 with 1 Axes>"
      ]
     },
     "metadata": {},
     "output_type": "display_data"
    }
   ],
   "source": [
    "# data\n",
    "final_data_t = torch.Tensor(final_data.values)       ; final_data_t.requires_grad = True\n",
    "ground_truth = torch.Tensor(train['Survived'].values)\n",
    "\n",
    "# weights\n",
    "weights = torch.Tensor(w)                                ; weights.requires_grad = True\n",
    "loss_values = []\n",
    "\n",
    "for i in range(epoches):\n",
    "    \n",
    "    # Forward Pass\n",
    "    predictions = torch.sum((final_data_t * weights), dim=1)\n",
    "    # predictions = torch.tanh(predictions)\n",
    "    \n",
    "    # Loss\n",
    "    loss = torch.sum((predictions - ground_truth) ** 2)\n",
    "    loss_values.append(loss.data.item())\n",
    "    \n",
    "    # Backward pass\n",
    "    loss.backward()\n",
    "    \n",
    "    # Nudge the gradients\n",
    "    with torch.no_grad():\n",
    "        weights -= learning_rate * weights.grad\n",
    "    \n",
    "    # Reset Gradients\n",
    "    weights.grad.zero_()\n",
    "\n",
    "print('Loss:', loss.data.item()) # print loss\n",
    "plt.plot([i for i in range(len(loss_values))], loss_values)\n",
    "plt.show()"
   ]
  },
  {
   "cell_type": "markdown",
   "id": "61db2b43-e2cc-4265-9040-d16d782413a0",
   "metadata": {},
   "source": [
    "### Test"
   ]
  },
  {
   "cell_type": "code",
   "execution_count": 6,
   "id": "2ee82c5d-153c-43fa-b8f6-dbfcbd0eeb9e",
   "metadata": {},
   "outputs": [],
   "source": [
    "test = pd.read_csv('./test.csv') # initialize test data\n",
    "test = test.drop(['PassengerId', 'Name', 'Ticket', 'Cabin'], axis=1) # drop unused columns\n",
    "test = test.dropna() # drop nan\n",
    "test['Pclass'] = pd.to_numeric(test['Pclass']) # cast to int\n",
    "\n",
    "#optimize Age\n",
    "maxAge = max(test['Age'])\n",
    "test['Age'] = round(test['Age']/maxAge, 2)\n",
    "\n",
    "# optimize Fare\n",
    "test['Fare'] = round(np.log10(test['Fare']+1), 2)\n",
    "\n",
    "# optimize Pclass\n",
    "test['Pclass_1'] = np.where(test['Pclass']==1, 1, 0)\n",
    "test['Pclass_2'] = np.where(test['Pclass']==2, 1, 0)\n",
    "\n",
    "# optimize gender\n",
    "test['Sex'] = np.where(test['Sex']=='male',1,0)\n",
    "test.rename(columns={'Sex' : 'Male'}, inplace=True)\n",
    "\n",
    "# optimize embarked\n",
    "test['Embark_S'] = np.where(test['Embarked']=='S',1,0)\n",
    "test['Embark_C'] = np.where(test['Embarked']=='C',1,0)\n",
    "\n",
    "# add ones\n",
    "test['Ones'] = 1"
   ]
  },
  {
   "cell_type": "code",
   "execution_count": 7,
   "id": "0904dc26-4253-41a0-8ea2-ff8b69a40ad9",
   "metadata": {},
   "outputs": [],
   "source": [
    "test_data = test[['SibSp', 'Parch', 'Age', 'Fare', 'Pclass_1', 'Pclass_2', 'Embark_S', 'Embark_C', 'Male', 'Ones']]\n",
    "test_data = torch.Tensor(test_data.values)\n",
    "\n",
    "\n",
    "weights = torch.Tensor(weights)    "
   ]
  },
  {
   "cell_type": "code",
   "execution_count": 8,
   "id": "a38299e3-ccd5-4a47-b2e9-f06989f94c7e",
   "metadata": {
    "scrolled": true
   },
   "outputs": [
    {
     "name": "stdout",
     "output_type": "stream",
     "text": [
      "tensor([-0., 0., -0., 0., 1., 0., 0., 0., 1., 0., 0., 1., 0., 1., 1., 0., 0., 1.,\n",
      "        1., 0., 0., 1., 1., -0., 1., 0., 0., 0., 0., 0., 0., 0., 1., 0., 0., 0.,\n",
      "        1., 1., 0., 0., 1., 1., 0., 0., 1., 1., -0., 0., 0., 1., 0., 0., 0., 1.,\n",
      "        1., 1., 0., 1., 1., 1., 0., 1., 1., 1., 1., 1., 0., 1., 0., 0., 0., 1.,\n",
      "        1., 0., 1., 1., 1., 0., 1., 0., 1., 0., 1., 0., 0., 1., 0., 0., 0., 0.,\n",
      "        1., 1., 1., 0., 1., 1., 1., 1., 1., 0., 1., 0., 0., 0., 0., 0., 0., 0.,\n",
      "        0., 0., 1., -0., 0., 1., 0., 0., 0., -0., 0., 0., 1., 1., -0., 0., 1., 1.,\n",
      "        0., 1., 0., 1., 0., 1., 0., 0., 1., 0., 0., -0., 1., 1., 0., 1., 1., 0.,\n",
      "        0., 1., 1., 0., 1., 0., 0., 0., 0., 0., 0., 0., 1., 1., 0., 0., 0., 1.,\n",
      "        0., 0., 0., 1., 0., 0., 0., 1., 0., 0., 0., 1., 1., 0., 1., 0., 1., 0.,\n",
      "        0., 0., 0., 1., 0., 0., 0., 0., 0., 1., 1., 1., 1., 0., 0., 1., 0., 1.,\n",
      "        1., 0., 1., 0., 0., 0., 1., 0., 0., 0., 1., 1., 0., 0., 0., 1., 1., 0.,\n",
      "        0., 0., 0., 1., 0., 1., 1., 0., 0., 0., 0., 0., 0., 1., 0., 0., 0., 0.,\n",
      "        0., 1., 0., 0., 0., 0., 0., 0., 0., 1., 1., 0., 0., 0., 0., 0., 0., 0.,\n",
      "        0., 1., 0., 1., 0., 0., 0., 1., 0., 1., 0., 0., 0., 0., 0., 0., 0., 1.,\n",
      "        1., 0., 1., 0., 1., 1., 0., 0., 0., 1., 0., 1., 1., -0., 1., 1., 0., 1.,\n",
      "        1., 1., 0., 0., 1., 0., 0., 1., 1., 1., 0., 0., 0., 0., 1., 1., 0., 0.,\n",
      "        0., 0., 1., 1., 0., 0., -0., 1., 0., 1., 0., -0., 1., 0., 1., 1., 0., 0.,\n",
      "        0., 0., 1., 1., 1., 1., 0.])\n"
     ]
    }
   ],
   "source": [
    "predictions = torch.sum((test_data * weights), dim=1)\n",
    "print(np.round(predictions.detach()))"
   ]
  },
  {
   "cell_type": "code",
   "execution_count": 9,
   "id": "3c9f0cde-5bc9-47c8-9ff6-aebfdee518f7",
   "metadata": {},
   "outputs": [
    {
     "data": {
      "text/plain": [
       "93.95770392749245"
      ]
     },
     "execution_count": 9,
     "metadata": {},
     "output_type": "execute_result"
    }
   ],
   "source": [
    "pred = np.round(predictions.detach().numpy())\n",
    "survived = test['Survived'].to_numpy()\n",
    "loss = np.abs(pred - survived)\n",
    "new_data = {\n",
    "    'predictions' : pred,\n",
    "    'survived' : survived,\n",
    "    'loss' : loss\n",
    "}\n",
    "new_data = pd.DataFrame(new_data)\n",
    "\n",
    "accurate_preds = new_data[new_data['loss'] == 0]\n",
    "len(accurate_preds['loss'].to_numpy()) / len(loss) * 100"
   ]
  }
 ],
 "metadata": {
  "kernelspec": {
   "display_name": "fastaienv",
   "language": "python",
   "name": "fastaienv"
  },
  "language_info": {
   "codemirror_mode": {
    "name": "ipython",
    "version": 3
   },
   "file_extension": ".py",
   "mimetype": "text/x-python",
   "name": "python",
   "nbconvert_exporter": "python",
   "pygments_lexer": "ipython3",
   "version": "3.9.5"
  }
 },
 "nbformat": 4,
 "nbformat_minor": 5
}
